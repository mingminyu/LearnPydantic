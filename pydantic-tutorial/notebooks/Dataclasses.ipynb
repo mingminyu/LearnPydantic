{
 "cells": [
  {
   "cell_type": "code",
   "execution_count": 1,
   "metadata": {
    "collapsed": true,
    "pycharm": {
     "name": "#%%\n"
    }
   },
   "outputs": [
    {
     "data": {
      "text/plain": "User(id=42, name='John Doe', signup_ts=datetime.datetime(2032, 6, 21, 12, 0))"
     },
     "execution_count": 1,
     "metadata": {},
     "output_type": "execute_result"
    }
   ],
   "source": [
    "from datetime import datetime\n",
    "from pydantic.dataclasses import dataclass\n",
    "\n",
    "\n",
    "@dataclass\n",
    "class User:\n",
    "    id: int\n",
    "    name: str = 'John Doe'\n",
    "    signup_ts: datetime = None\n",
    "\n",
    "\n",
    "user = User(id='42', signup_ts='2032-06-21T12:00')\n",
    "user"
   ]
  },
  {
   "cell_type": "code",
   "execution_count": 3,
   "outputs": [
    {
     "name": "stdout",
     "output_type": "stream",
     "text": [
      "{'properties': {'age': {'description': 'do not lie!',\n",
      "                        'title': 'The age of the user',\n",
      "                        'type': 'integer'},\n",
      "                'friends': {'items': {'type': 'integer'},\n",
      "                            'title': 'Friends',\n",
      "                            'type': 'array'},\n",
      "                'height': {'maximum': 300,\n",
      "                           'minimum': 50,\n",
      "                           'title': 'The height in cm',\n",
      "                           'type': 'integer'},\n",
      "                'id': {'title': 'Id', 'type': 'integer'},\n",
      "                'name': {'default': 'John Doe',\n",
      "                         'title': 'Name',\n",
      "                         'type': 'string'}},\n",
      " 'required': ['id'],\n",
      " 'title': 'User',\n",
      " 'type': 'object'}\n"
     ]
    }
   ],
   "source": [
    "import dataclasses\n",
    "from pprint import pprint\n",
    "from typing import List, Optional\n",
    "from pydantic import Field\n",
    "from pydantic.dataclasses import dataclass\n",
    "\n",
    "\n",
    "@dataclass\n",
    "class User:\n",
    "    id: int\n",
    "    name: str = 'John Doe'\n",
    "    friends: List[int] = dataclasses.field(default_factory=lambda: [0])\n",
    "    age: Optional[int] = dataclasses.field(\n",
    "        default=None,\n",
    "        metadata=dict(title='The age of the user', description='do not lie!')\n",
    "    )\n",
    "    height: Optional[int] = Field(None, title='The height in cm', ge=50, le=300)\n",
    "\n",
    "\n",
    "pprint(user.__pydantic_model__.schema())"
   ],
   "metadata": {
    "collapsed": false,
    "pycharm": {
     "name": "#%%\n"
    }
   }
  },
  {
   "cell_type": "markdown",
   "source": [
    "# Nested dataclasses"
   ],
   "metadata": {
    "collapsed": false,
    "pycharm": {
     "name": "#%% md\n"
    }
   }
  },
  {
   "cell_type": "code",
   "execution_count": 4,
   "outputs": [
    {
     "data": {
      "text/plain": "Navbar(button=NavbarButton(href=AnyUrl('https://example.com', scheme='https', host='example.com', tld='com', host_type='domain')))"
     },
     "execution_count": 4,
     "metadata": {},
     "output_type": "execute_result"
    }
   ],
   "source": [
    "from pydantic import AnyUrl\n",
    "from pydantic.dataclasses import dataclass\n",
    "\n",
    "\n",
    "@dataclass\n",
    "class NavbarButton:\n",
    "    href: AnyUrl\n",
    "\n",
    "\n",
    "@dataclass\n",
    "class Navbar:\n",
    "    button: NavbarButton\n",
    "\n",
    "\n",
    "navbar = Navbar(button=('https://example.com',))\n",
    "navbar"
   ],
   "metadata": {
    "collapsed": false,
    "pycharm": {
     "name": "#%%\n"
    }
   }
  },
  {
   "cell_type": "markdown",
   "source": [
    "# Stdlib dataclasses and pydantic dataclasses"
   ],
   "metadata": {
    "collapsed": false,
    "pycharm": {
     "name": "#%% md\n"
    }
   }
  },
  {
   "cell_type": "markdown",
   "source": [
    "## Convert stdlib dataclasses into pydantic dataclasses"
   ],
   "metadata": {
    "collapsed": false,
    "pycharm": {
     "name": "#%% md\n"
    }
   }
  },
  {
   "cell_type": "code",
   "execution_count": 5,
   "outputs": [
    {
     "data": {
      "text/plain": "_Pydantic_File_2249165026720(modified_date=datetime.datetime(2020, 1, 1, 0, 0), seen_count=7, filename='thefilename')"
     },
     "execution_count": 5,
     "metadata": {},
     "output_type": "execute_result"
    }
   ],
   "source": [
    "import dataclasses\n",
    "import pydantic\n",
    "from datetime import datetime\n",
    "from typing import Optional\n",
    "\n",
    "\n",
    "\n",
    "@dataclasses.dataclass\n",
    "class Meta:\n",
    "    modified_date: Optional[datetime]\n",
    "    seen_count: int\n",
    "\n",
    "\n",
    "@dataclasses.dataclass\n",
    "class File(Meta):\n",
    "    filename: str\n",
    "\n",
    "\n",
    "File = pydantic.dataclasses.dataclass(File)\n",
    "\n",
    "file = File(\n",
    "    filename=b'thefilename',\n",
    "    modified_date='2020-01-01T00:00',\n",
    "    seen_count='7',\n",
    ")\n",
    "file"
   ],
   "metadata": {
    "collapsed": false,
    "pycharm": {
     "name": "#%%\n"
    }
   }
  },
  {
   "cell_type": "code",
   "execution_count": 6,
   "outputs": [
    {
     "name": "stdout",
     "output_type": "stream",
     "text": [
      "1 validation error for File\n",
      "filename\n",
      "  str type expected (type=type_error.str)\n"
     ]
    }
   ],
   "source": [
    "try:\n",
    "    File(\n",
    "        filename=['not', 'a', 'string'],\n",
    "        modified_date=None,\n",
    "        seen_count=3,\n",
    "    )\n",
    "except pydantic.ValidationError as e:\n",
    "    print(e)"
   ],
   "metadata": {
    "collapsed": false,
    "pycharm": {
     "name": "#%%\n"
    }
   }
  },
  {
   "cell_type": "code",
   "execution_count": 7,
   "outputs": [
    {
     "name": "stdout",
     "output_type": "stream",
     "text": [
      "1 validation error for File\n",
      "filename\n",
      "  str type expected (type=type_error.str)\n"
     ]
    }
   ],
   "source": [
    "try:\n",
    "    File(\n",
    "        filename=['not', 'a', 'string'],\n",
    "        modified_date=None,\n",
    "        seen_count=3,\n",
    "    )\n",
    "except pydantic.ValidationError as e:\n",
    "    print(e)"
   ],
   "metadata": {
    "collapsed": false,
    "pycharm": {
     "name": "#%%\n"
    }
   }
  },
  {
   "cell_type": "markdown",
   "source": [
    "## Inherit from stdlib dataclasses"
   ],
   "metadata": {
    "collapsed": false,
    "pycharm": {
     "name": "#%% md\n"
    }
   }
  },
  {
   "cell_type": "code",
   "execution_count": 8,
   "outputs": [
    {
     "data": {
      "text/plain": "_Pydantic_X_2249165030496(z=3, y=2, x=1)"
     },
     "execution_count": 8,
     "metadata": {},
     "output_type": "execute_result"
    }
   ],
   "source": [
    "import dataclasses\n",
    "import pydantic\n",
    "\n",
    "\n",
    "@dataclasses.dataclass\n",
    "class Z:\n",
    "    z: int\n",
    "\n",
    "\n",
    "@dataclasses.dataclass\n",
    "class Y(Z):\n",
    "    y: int = 0\n",
    "\n",
    "\n",
    "@pydantic.dataclasses.dataclass\n",
    "class X(Y):\n",
    "    x: int = 0\n",
    "\n",
    "\n",
    "foo = X(x=b'1', y='2', z='3')\n",
    "foo"
   ],
   "metadata": {
    "collapsed": false,
    "pycharm": {
     "name": "#%%\n"
    }
   }
  },
  {
   "cell_type": "code",
   "execution_count": 9,
   "outputs": [
    {
     "name": "stdout",
     "output_type": "stream",
     "text": [
      "1 validation error for X\n",
      "z\n",
      "  value is not a valid integer (type=type_error.integer)\n"
     ]
    }
   ],
   "source": [
    "try:\n",
    "    X(z='pika')\n",
    "except pydantic.ValidationError as e:\n",
    "    print(e)"
   ],
   "metadata": {
    "collapsed": false,
    "pycharm": {
     "name": "#%%\n"
    }
   }
  },
  {
   "cell_type": "markdown",
   "source": [
    "## Use of stdlib dataclasses with BaseModel"
   ],
   "metadata": {
    "collapsed": false,
    "pycharm": {
     "name": "#%% md\n"
    }
   }
  },
  {
   "cell_type": "code",
   "execution_count": 10,
   "outputs": [
    {
     "data": {
      "text/plain": "File(filename=['not', 'a', 'string'], last_modification_time='2020-01-01T00:00')"
     },
     "execution_count": 10,
     "metadata": {},
     "output_type": "execute_result"
    }
   ],
   "source": [
    "import dataclasses\n",
    "from datetime import datetime\n",
    "from typing import Optional\n",
    "\n",
    "from pydantic import BaseModel, ValidationError\n",
    "\n",
    "\n",
    "@dataclasses.dataclass(frozen=True)\n",
    "class User:\n",
    "    name: str\n",
    "\n",
    "\n",
    "@dataclasses.dataclass\n",
    "class File:\n",
    "    filename: str\n",
    "    last_modification_time: Optional[datetime] = None\n",
    "\n",
    "\n",
    "class Foo(BaseModel):\n",
    "    file: File\n",
    "    user: Optional[User] = None\n",
    "\n",
    "\n",
    "file = File(\n",
    "    filename=['not', 'a', 'string'],\n",
    "    last_modification_time='2020-01-01T00:00',\n",
    ")  # nothing is validated as expected\n",
    "file"
   ],
   "metadata": {
    "collapsed": false,
    "pycharm": {
     "name": "#%%\n"
    }
   }
  },
  {
   "cell_type": "code",
   "execution_count": 11,
   "outputs": [
    {
     "name": "stdout",
     "output_type": "stream",
     "text": [
      "1 validation error for Foo\n",
      "file -> filename\n",
      "  str type expected (type=type_error.str)\n"
     ]
    }
   ],
   "source": [
    "try:\n",
    "    Foo(file=file)\n",
    "except ValidationError as e:\n",
    "    print(e)"
   ],
   "metadata": {
    "collapsed": false,
    "pycharm": {
     "name": "#%%\n"
    }
   }
  },
  {
   "cell_type": "code",
   "execution_count": 12,
   "outputs": [
    {
     "name": "stdout",
     "output_type": "stream",
     "text": [
      "cannot assign to field 'name'\n"
     ]
    }
   ],
   "source": [
    "foo = Foo(file=File(filename='myfile'), user=User(name='pika'))\n",
    "\n",
    "try:\n",
    "    foo.user.name = 'bulbi'\n",
    "except dataclasses.FrozenInstanceError as e:\n",
    "    print(e)"
   ],
   "metadata": {
    "collapsed": false,
    "pycharm": {
     "name": "#%%\n"
    }
   }
  },
  {
   "cell_type": "markdown",
   "source": [
    "## Use custom types"
   ],
   "metadata": {
    "collapsed": false,
    "pycharm": {
     "name": "#%% md\n"
    }
   }
  },
  {
   "cell_type": "code",
   "execution_count": 14,
   "outputs": [],
   "source": [
    "import dataclasses\n",
    "import pydantic\n",
    "\n",
    "\n",
    "class ArbitraryType:\n",
    "    def __init__(self, value):\n",
    "        self.value = value\n",
    "\n",
    "    def __repr__(self):\n",
    "        return f'ArbitraryType(value={self.value!r})'\n",
    "\n",
    "\n",
    "@dataclasses.dataclass\n",
    "class DC:\n",
    "    a: ArbitraryType\n",
    "    b: str"
   ],
   "metadata": {
    "collapsed": false,
    "pycharm": {
     "name": "#%%\n"
    }
   }
  },
  {
   "cell_type": "code",
   "execution_count": 15,
   "outputs": [
    {
     "name": "stdout",
     "output_type": "stream",
     "text": [
      "no validator found for <class '__main__.ArbitraryType'>, see `arbitrary_types_allowed` in Config\n"
     ]
    }
   ],
   "source": [
    "my_dc = DC(a=ArbitraryType(value=3), b='qwe')\n",
    "\n",
    "try:\n",
    "    class Model(pydantic.BaseModel):\n",
    "        dc: DC\n",
    "        other: str\n",
    "\n",
    "    Model(dc=my_dc, other='other')\n",
    "except RuntimeError as e:  # invalid as it is now a pydantic dataclass\n",
    "    print(e)"
   ],
   "metadata": {
    "collapsed": false,
    "pycharm": {
     "name": "#%%\n"
    }
   }
  },
  {
   "cell_type": "code",
   "execution_count": 17,
   "outputs": [
    {
     "data": {
      "text/plain": "\"Model(dc=_Pydantic_DC_2249166075760(a=ArbitraryType(value=3), b='qwe'), other='other')\""
     },
     "execution_count": 17,
     "metadata": {},
     "output_type": "execute_result"
    }
   ],
   "source": [
    "class Model(pydantic.BaseModel):\n",
    "    dc: DC\n",
    "    other: str\n",
    "\n",
    "    class Config:\n",
    "        arbitrary_types_allowed = True\n",
    "\n",
    "\n",
    "m = Model(dc=my_dc, other='other')\n",
    "repr(m)"
   ],
   "metadata": {
    "collapsed": false,
    "pycharm": {
     "name": "#%%\n"
    }
   }
  },
  {
   "cell_type": "code",
   "execution_count": null,
   "outputs": [],
   "source": [],
   "metadata": {
    "collapsed": false,
    "pycharm": {
     "name": "#%%\n"
    }
   }
  }
 ],
 "metadata": {
  "kernelspec": {
   "display_name": "Python 3",
   "language": "python",
   "name": "python3"
  },
  "language_info": {
   "codemirror_mode": {
    "name": "ipython",
    "version": 2
   },
   "file_extension": ".py",
   "mimetype": "text/x-python",
   "name": "python",
   "nbconvert_exporter": "python",
   "pygments_lexer": "ipython2",
   "version": "2.7.6"
  }
 },
 "nbformat": 4,
 "nbformat_minor": 0
}