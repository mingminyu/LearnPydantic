{
 "cells": [
  {
   "cell_type": "markdown",
   "source": [
    "# Typing Iterables"
   ],
   "metadata": {
    "collapsed": false,
    "pycharm": {
     "name": "#%% md\n"
    }
   }
  },
  {
   "cell_type": "code",
   "execution_count": 14,
   "outputs": [
    {
     "name": "stdout",
     "output_type": "stream",
     "text": [
      "👻 Builtin list:  ['1', '2', '3']\n",
      "👻 Typing List[int]:  [1, 2, 3]\n",
      "👻 Builtin tuple:  (1, 2, 3, 4)\n",
      "👻 Typing Tuple[int, float, str, bool]:  (4, 3.0, '2', True)\n",
      "👻 Builtin dict:  {'a': 1, b'b': 2}\n",
      "👻 Typing Dict[str, float]:  {'a': 1.0, 'b': 2.0}\n",
      "👻 Builtin set:  {'c', 'b', 'a'}\n",
      "👻 Typing Set[bytes]:  {b'c', b'b', b'a'}\n",
      "👻 Typing FrozenSet[int]:  frozenset({1, 2, 3})\n",
      "👻 Typing Union[str, bytes]:  abc\n",
      "👻 Typing Optional[str]:  None\n",
      "👻 Typing Sequence[int]:  [1, 2, 3, 4]\n",
      "👻 Typing Sequence[int]:  [1, 2, 3, 4]\n",
      "👻 Typing Dict[Union[str, bytes], List[Set[int]]]:  {'abc': [{1, 2, 3}, {1, 4}]}\n",
      "👻 Typing Deque[int] deque([1, 2, 3])\n"
     ]
    }
   ],
   "source": [
    "from typing import (\n",
    "    Deque, Dict, FrozenSet, List, Optional, Sequence, Set, Tuple, Union\n",
    ")\n",
    "\n",
    "from pydantic import BaseModel\n",
    "\n",
    "\n",
    "class Model(BaseModel):\n",
    "    simple_list: list = None\n",
    "    list_of_ints: List[int] = None\n",
    "\n",
    "    simple_tuple: tuple = None\n",
    "    tuple_of_different_types: Tuple[int, float, str, bool] = None\n",
    "\n",
    "    simple_dict: dict = None\n",
    "    dict_str_float: Dict[str, float] = None\n",
    "\n",
    "    simple_set: set = None\n",
    "    set_bytes: Set[bytes] = None\n",
    "    # FrozenSet 为不可变集合，一旦创建了便不可更改，没有 `add` 和 `remove` 方法\n",
    "    frozen_set: FrozenSet[int] = None\n",
    "\n",
    "    str_or_bytes: Union[str, bytes] = None\n",
    "    none_or_str: Optional[str] = None\n",
    "\n",
    "    sequence_of_ints: Sequence[int] = None\n",
    "\n",
    "    compound: Dict[Union[str, bytes], List[Set[int]]] = None\n",
    "\n",
    "    deque: Deque[int] = None\n",
    "\n",
    "model = Model(\n",
    "    simple_list=['1', '2', '3'],\n",
    "    list_of_ints=[1, 2, 3],\n",
    "    simple_tuple=(1, 2, 3, 4),\n",
    "    tuple_of_different_types=(4, 3.0, '2', True),\n",
    "    simple_dict={'a': 1, b'b': 2},\n",
    "    dict_str_float={'a': 1, b'b': 2},\n",
    "    simple_set=('a', 'b', 'c'),\n",
    "    set_bytes=('a', 'b', 'c'),\n",
    "    frozen_set=(1, 2, 3),\n",
    "    str_or_bytes=b'abc',  # 也可以直接使用 abc\n",
    "    none_or_str=None,\n",
    "    sequence_of_ints=[1, 2, 3, 4],  # 也可以使用 (1, 2, 3, 4)\n",
    "    compound={\"abc\": [(1, 2, 3), ['1', '4']]},\n",
    "    deque=[1, 2, 3],\n",
    ")\n",
    "\n",
    "\n",
    "print(\"👻 Builtin list: \", model.simple_list)\n",
    "print(\"👻 Typing List[int]: \", model.list_of_ints)\n",
    "\n",
    "print(\"👻 Builtin tuple: \", model.simple_tuple)\n",
    "print(\"👻 Typing Tuple[int, float, str, bool]: \", model.tuple_of_different_types)\n",
    "\n",
    "print(\"👻 Builtin dict: \", model.simple_dict)\n",
    "print(\"👻 Typing Dict[str, float]: \", model.dict_str_float)\n",
    "\n",
    "print(\"👻 Builtin set: \", model.simple_set)\n",
    "print(\"👻 Typing Set[bytes]: \", model.set_bytes)\n",
    "print(\"👻 Typing FrozenSet[int]: \", model.frozen_set)\n",
    "\n",
    "print(\"👻 Typing Union[str, bytes]: \", model.str_or_bytes)\n",
    "print(\"👻 Typing Optional[str]: \", model.none_or_str)\n",
    "print(\"👻 Typing Sequence[int]: \", model.sequence_of_ints)\n",
    "\n",
    "print(\"👻 Typing Sequence[int]: \", model.sequence_of_ints)\n",
    "print(\"👻 Typing Dict[Union[str, bytes], List[Set[int]]]: \", model.compound)\n",
    "print(\"👻 Typing Deque[int]\", model.deque)"
   ],
   "metadata": {
    "collapsed": false,
    "pycharm": {
     "name": "#%%\n"
    }
   }
  },
  {
   "cell_type": "markdown",
   "source": [
    "# Infinite Generators"
   ],
   "metadata": {
    "collapsed": false,
    "pycharm": {
     "name": "#%% md\n"
    }
   }
  },
  {
   "cell_type": "code",
   "execution_count": 16,
   "outputs": [
    {
     "data": {
      "text/plain": "Model(infinite=<generator object infinite_ints at 0x000001EC9D31BDD0>)"
     },
     "execution_count": 16,
     "metadata": {},
     "output_type": "execute_result"
    }
   ],
   "source": [
    "from typing import Iterable\n",
    "from pydantic import BaseModel\n",
    "\n",
    "\n",
    "class Model(BaseModel):\n",
    "    infinite: Iterable[int]\n",
    "\n",
    "\n",
    "def infinite_ints():\n",
    "    i = 0\n",
    "    while True:\n",
    "        yield i\n",
    "        i += 1\n",
    "\n",
    "\n",
    "m = Model(infinite=infinite_ints())\n",
    "m"
   ],
   "metadata": {
    "collapsed": false,
    "pycharm": {
     "name": "#%%\n"
    }
   }
  },
  {
   "cell_type": "code",
   "execution_count": 17,
   "outputs": [
    {
     "name": "stdout",
     "output_type": "stream",
     "text": [
      "0\n",
      "1\n",
      "2\n",
      "3\n"
     ]
    }
   ],
   "source": [
    "for i in m.infinite:\n",
    "    print(i)\n",
    "\n",
    "    if i == 3:\n",
    "        break"
   ],
   "metadata": {
    "collapsed": false,
    "pycharm": {
     "name": "#%%\n"
    }
   }
  },
  {
   "cell_type": "markdown",
   "source": [
    "## Validating the first value"
   ],
   "metadata": {
    "collapsed": false,
    "pycharm": {
     "name": "#%% md\n"
    }
   }
  },
  {
   "cell_type": "code",
   "execution_count": 18,
   "outputs": [
    {
     "data": {
      "text/plain": "Model(infinite=<itertools.chain object at 0x000001EC991D7820>)"
     },
     "execution_count": 18,
     "metadata": {},
     "output_type": "execute_result"
    }
   ],
   "source": [
    "import itertools\n",
    "from typing import Iterable\n",
    "from pydantic import BaseModel, validator, ValidationError\n",
    "from pydantic.fields import ModelField\n",
    "\n",
    "\n",
    "class Model(BaseModel):\n",
    "    infinite: Iterable[int]\n",
    "\n",
    "    @validator('infinite')\n",
    "    # You don't need to add the \"ModelField\", but it will help your\n",
    "    # editor give you completion and catch errors\n",
    "    def infinite_first_int(cls, iterable, field: ModelField):\n",
    "        first_value = next(iterable)\n",
    "\n",
    "        if field.sub_fields:\n",
    "            # The Iterable had a parameter type, in this case it's int\n",
    "            # We use it to validate the first value\n",
    "            sub_field = field.sub_fields[0]\n",
    "            v, error = sub_field.validate(first_value, {}, loc='first_value')\n",
    "\n",
    "            if error:\n",
    "                raise ValidationError([error], cls)\n",
    "\n",
    "        # This creates a new generator that returns the first value and then\n",
    "        # the rest of the values from the (already started) iterable\n",
    "        return itertools.chain([first_value], iterable)\n",
    "\n",
    "\n",
    "def infinite_ints():\n",
    "    i = 0\n",
    "    while True:\n",
    "        yield i\n",
    "        i += 1\n",
    "\n",
    "\n",
    "m = Model(infinite=infinite_ints())\n",
    "m"
   ],
   "metadata": {
    "collapsed": false,
    "pycharm": {
     "name": "#%%\n"
    }
   }
  },
  {
   "cell_type": "code",
   "execution_count": 19,
   "outputs": [
    {
     "name": "stdout",
     "output_type": "stream",
     "text": [
      "1 validation error for Model\n",
      "infinite -> first_value\n",
      "  value is not a valid integer (type=type_error.integer)\n"
     ]
    }
   ],
   "source": [
    "def infinite_strs():\n",
    "    while True:\n",
    "        for letter in 'allthesingleladies':\n",
    "            yield letter\n",
    "\n",
    "\n",
    "try:\n",
    "    Model(infinite=infinite_strs())\n",
    "except ValidationError as e:\n",
    "    print(e)"
   ],
   "metadata": {
    "collapsed": false,
    "pycharm": {
     "name": "#%%\n"
    }
   }
  },
  {
   "cell_type": "markdown",
   "source": [
    "# Unions"
   ],
   "metadata": {
    "collapsed": false,
    "pycharm": {
     "name": "#%% md\n"
    }
   }
  },
  {
   "cell_type": "code",
   "execution_count": 20,
   "outputs": [
    {
     "name": "stdout",
     "output_type": "stream",
     "text": [
      "id=123 name='John Doe'\n",
      "123\n",
      "id=1234 name='John Doe'\n",
      "1234\n",
      "id=275603287559914445491632874575877060712 name='John Doe'\n",
      "275603287559914445491632874575877060712\n",
      "275603287559914445491632874575877060712\n"
     ]
    }
   ],
   "source": [
    "from uuid import UUID\n",
    "from typing import Union\n",
    "from pydantic import BaseModel\n",
    "\n",
    "\n",
    "class User(BaseModel):\n",
    "    id: Union[int, str, UUID]\n",
    "    name: str\n",
    "\n",
    "\n",
    "user_01 = User(id=123, name='John Doe')\n",
    "print(user_01)\n",
    "print(user_01.id)\n",
    "\n",
    "user_02 = User(id='1234', name='John Doe')\n",
    "print(user_02)\n",
    "print(user_02.id)\n",
    "\n",
    "user_03_uuid = UUID('cf57432e-809e-4353-adbd-9d5c0d733868')\n",
    "user_03 = User(id=user_03_uuid, name='John Doe')\n",
    "print(user_03)\n",
    "print(user_03.id)\n",
    "print(user_03_uuid.int)"
   ],
   "metadata": {
    "collapsed": false,
    "pycharm": {
     "name": "#%%\n"
    }
   }
  },
  {
   "cell_type": "code",
   "execution_count": 21,
   "outputs": [
    {
     "name": "stdout",
     "output_type": "stream",
     "text": [
      "id=UUID('cf57432e-809e-4353-adbd-9d5c0d733868') name='John Doe'\n",
      "cf57432e-809e-4353-adbd-9d5c0d733868\n",
      "275603287559914445491632874575877060712\n"
     ]
    }
   ],
   "source": [
    "from uuid import UUID\n",
    "from typing import Union\n",
    "from pydantic import BaseModel\n",
    "\n",
    "\n",
    "class User(BaseModel):\n",
    "    id: Union[UUID, int, str]\n",
    "    name: str\n",
    "\n",
    "\n",
    "user_03_uuid = UUID('cf57432e-809e-4353-adbd-9d5c0d733868')\n",
    "user_03 = User(id=user_03_uuid, name='John Doe')\n",
    "print(user_03)\n",
    "print(user_03.id)\n",
    "print(user_03_uuid.int)"
   ],
   "metadata": {
    "collapsed": false,
    "pycharm": {
     "name": "#%%\n"
    }
   }
  },
  {
   "cell_type": "markdown",
   "source": [
    "## Discriminated Unions"
   ],
   "metadata": {
    "collapsed": false,
    "pycharm": {
     "name": "#%% md\n"
    }
   }
  },
  {
   "cell_type": "code",
   "execution_count": 22,
   "outputs": [
    {
     "data": {
      "text/plain": "Model(pet=Dog(pet_type='dog', barks=3.14), n=1)"
     },
     "execution_count": 22,
     "metadata": {},
     "output_type": "execute_result"
    }
   ],
   "source": [
    "from typing import Literal, Union\n",
    "from pydantic import BaseModel, Field, ValidationError\n",
    "\n",
    "\n",
    "class Cat(BaseModel):\n",
    "    pet_type: Literal['cat']\n",
    "    meows: int\n",
    "\n",
    "\n",
    "class Dog(BaseModel):\n",
    "    pet_type: Literal['dog']\n",
    "    barks: float\n",
    "\n",
    "\n",
    "class Lizard(BaseModel):\n",
    "    pet_type: Literal['reptile', 'lizard']\n",
    "    scales: bool\n",
    "\n",
    "\n",
    "class Model(BaseModel):\n",
    "    pet: Union[Cat, Dog, Lizard] = Field(..., discriminator='pet_type')\n",
    "    n: int\n",
    "\n",
    "\n",
    "Model(pet={'pet_type': 'dog', 'barks': 3.14}, n=1)"
   ],
   "metadata": {
    "collapsed": false,
    "pycharm": {
     "name": "#%%\n"
    }
   }
  },
  {
   "cell_type": "code",
   "execution_count": 23,
   "outputs": [
    {
     "name": "stdout",
     "output_type": "stream",
     "text": [
      "1 validation error for Model\n",
      "pet -> Dog -> barks\n",
      "  field required (type=value_error.missing)\n"
     ]
    }
   ],
   "source": [
    "try:\n",
    "    Model(pet={'pet_type': 'dog'}, n=1)\n",
    "except ValidationError as e:\n",
    "    print(e)"
   ],
   "metadata": {
    "collapsed": false,
    "pycharm": {
     "name": "#%%\n"
    }
   }
  },
  {
   "cell_type": "markdown",
   "source": [
    "## Nested Discriminated Unions"
   ],
   "metadata": {
    "collapsed": false,
    "pycharm": {
     "name": "#%% md\n"
    }
   }
  },
  {
   "cell_type": "code",
   "execution_count": 24,
   "outputs": [
    {
     "data": {
      "text/plain": "Model(pet=BlackCat(pet_type='cat', color='black', black_name='felix'), n=1)"
     },
     "execution_count": 24,
     "metadata": {},
     "output_type": "execute_result"
    }
   ],
   "source": [
    "from typing import Literal, Union\n",
    "from typing_extensions import Annotated\n",
    "from pydantic import BaseModel, Field, ValidationError\n",
    "\n",
    "\n",
    "class BlackCat(BaseModel):\n",
    "    pet_type: Literal['cat']\n",
    "    color: Literal['black']\n",
    "    black_name: str\n",
    "\n",
    "\n",
    "class WhiteCat(BaseModel):\n",
    "    pet_type: Literal['cat']\n",
    "    color: Literal['white']\n",
    "    white_name: str\n",
    "\n",
    "\n",
    "Cat = Annotated[Union[BlackCat, WhiteCat], Field(discriminator='color')]\n",
    "\n",
    "\n",
    "class Dog(BaseModel):\n",
    "    pet_type: Literal['dog']\n",
    "    name: str\n",
    "\n",
    "\n",
    "Pet = Annotated[Union[Cat, Dog], Field(discriminator='pet_type')]\n",
    "\n",
    "\n",
    "class Model(BaseModel):\n",
    "    pet: Pet\n",
    "    n: int\n",
    "\n",
    "\n",
    "m = Model(pet={'pet_type': 'cat', 'color': 'black', 'black_name': 'felix'}, n=1)\n",
    "m"
   ],
   "metadata": {
    "collapsed": false,
    "pycharm": {
     "name": "#%%\n"
    }
   }
  },
  {
   "cell_type": "code",
   "execution_count": 25,
   "outputs": [
    {
     "name": "stdout",
     "output_type": "stream",
     "text": [
      "1 validation error for Model\n",
      "pet -> Union[BlackCat, WhiteCat]\n",
      "  No match for discriminator 'color' and value 'red' (allowed values: 'black', 'white') (type=value_error.discriminated_union.invalid_discriminator; discriminator_key=color; discriminator_value=red; allowed_values='black', 'white')\n"
     ]
    }
   ],
   "source": [
    "try:\n",
    "    Model(pet={'pet_type': 'cat', 'color': 'red'}, n='1')\n",
    "except ValidationError as e:\n",
    "    print(e)"
   ],
   "metadata": {
    "collapsed": false,
    "pycharm": {
     "name": "#%%\n"
    }
   }
  },
  {
   "cell_type": "code",
   "execution_count": null,
   "outputs": [],
   "source": [],
   "metadata": {
    "collapsed": false,
    "pycharm": {
     "name": "#%%\n"
    }
   }
  }
 ],
 "metadata": {
  "kernelspec": {
   "display_name": "Python 3",
   "language": "python",
   "name": "python3"
  },
  "language_info": {
   "codemirror_mode": {
    "name": "ipython",
    "version": 2
   },
   "file_extension": ".py",
   "mimetype": "text/x-python",
   "name": "python",
   "nbconvert_exporter": "python",
   "pygments_lexer": "ipython2",
   "version": "2.7.6"
  }
 },
 "nbformat": 4,
 "nbformat_minor": 0
}