{
 "cells": [
  {
   "cell_type": "code",
   "execution_count": 1,
   "metadata": {
    "collapsed": true,
    "pycharm": {
     "name": "#%%\n"
    }
   },
   "outputs": [
    {
     "name": "stdout",
     "output_type": "stream",
     "text": [
      "C:\\Users\\yumingmin\\AppData\\Local\\Temp\\ipykernel_24668\\1000875135.py:30 <cell line: 30>\n",
      "    user: User(\n",
      "        id=123,\n",
      "        name='John Doe',\n",
      "        signup_ts=datetime.datetime(2019, 6, 1, 12, 22),\n",
      "        friends=[\n",
      "            1234,\n",
      "            4567,\n",
      "            7890,\n",
      "        ],\n",
      "        address=Address(\n",
      "            street='Testing',\n",
      "            country='uk',\n",
      "            lat=51.5,\n",
      "            lng=0.0,\n",
      "        ),\n",
      "    ) (User)\n",
      "\n",
      "should be much easier read than:\n",
      "\n",
      "user: id=123 name='John Doe' signup_ts=datetime.datetime(2019, 6, 1, 12, 22) friends=[1234, 4567, 7890] address=Address(street='Testing', country='uk', lat=51.5, lng=0.0)\n"
     ]
    }
   ],
   "source": [
    "from datetime import datetime\n",
    "from typing import List\n",
    "from pydantic import BaseModel\n",
    "\n",
    "from devtools import debug\n",
    "\n",
    "\n",
    "class Address(BaseModel):\n",
    "    street: str\n",
    "    country: str\n",
    "    lat: float\n",
    "    lng: float\n",
    "\n",
    "\n",
    "class User(BaseModel):\n",
    "    id: int\n",
    "    name: str\n",
    "    signup_ts: datetime\n",
    "    friends: List[int]\n",
    "    address: Address\n",
    "\n",
    "\n",
    "user = User(\n",
    "    id='123',\n",
    "    name='John Doe',\n",
    "    signup_ts='2019-06-01 12:22',\n",
    "    friends=[1234, 4567, 7890],\n",
    "    address=dict(street='Testing', country='uk', lat=51.5, lng=0),\n",
    ")\n",
    "debug(user)\n",
    "print('\\nshould be much easier read than:\\n')\n",
    "print('user:', user)"
   ]
  }
 ],
 "metadata": {
  "kernelspec": {
   "display_name": "Python 3",
   "language": "python",
   "name": "python3"
  },
  "language_info": {
   "codemirror_mode": {
    "name": "ipython",
    "version": 2
   },
   "file_extension": ".py",
   "mimetype": "text/x-python",
   "name": "python",
   "nbconvert_exporter": "python",
   "pygments_lexer": "ipython2",
   "version": "2.7.6"
  }
 },
 "nbformat": 4,
 "nbformat_minor": 0
}