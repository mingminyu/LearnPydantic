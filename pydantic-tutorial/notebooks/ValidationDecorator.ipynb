{
 "cells": [
  {
   "cell_type": "code",
   "execution_count": 1,
   "metadata": {
    "collapsed": true,
    "pycharm": {
     "name": "#%%\n"
    }
   },
   "outputs": [
    {
     "name": "stdout",
     "output_type": "stream",
     "text": [
      "b'hellohellohello'\n",
      "b'x x x x'\n",
      "1 validation error for Repeat\n",
      "count\n",
      "  value is not a valid integer (type=type_error.integer)\n"
     ]
    }
   ],
   "source": [
    "from pydantic import validate_arguments, ValidationError\n",
    "\n",
    "\n",
    "@validate_arguments\n",
    "def repeat(s: str, count: int, *, separator: bytes = b'') -> bytes:\n",
    "    b = s.encode()\n",
    "    return separator.join(b for _ in range(count))\n",
    "\n",
    "\n",
    "a = repeat('hello', 3)\n",
    "print(a)\n",
    "\n",
    "b = repeat('x', '4', separator=' ')\n",
    "print(b)\n",
    "\n",
    "try:\n",
    "    c = repeat('hello', 'wrong')\n",
    "except ValidationError as exc:\n",
    "    print(exc)"
   ]
  },
  {
   "cell_type": "markdown",
   "source": [
    "# Argument Types"
   ],
   "metadata": {
    "collapsed": false,
    "pycharm": {
     "name": "#%% md\n"
    }
   }
  },
  {
   "cell_type": "code",
   "execution_count": 60,
   "outputs": [
    {
     "name": "stdout",
     "output_type": "stream",
     "text": [
      "FileTypes.ipynb\n"
     ]
    },
    {
     "data": {
      "text/plain": "WindowsPath('G:/LearnPydantic/pydantic-tutorial/notebooks/FileTypes.ipynb')"
     },
     "execution_count": 60,
     "metadata": {},
     "output_type": "execute_result"
    }
   ],
   "source": [
    "from pathlib import Path\n",
    "from typing import Pattern, Optional\n",
    "from pydantic import validate_arguments, DirectoryPath\n",
    "\n",
    "\n",
    "@validate_arguments\n",
    "def find_file(path: DirectoryPath, regex: Pattern, max=None) -> Optional[Path]:\n",
    "    for i, f in enumerate(path.glob('**/*')):\n",
    "        if max and i > max:\n",
    "            return\n",
    "        print(str(f.relative_to(path)))\n",
    "        if f.is_file() and regex.fullmatch(str(f.relative_to(path))):\n",
    "            return f\n",
    "\n",
    "\n",
    "find_file('G:\\\\LearnPydantic\\\\pydantic-tutorial\\\\notebooks', 'FileTypes.*')"
   ],
   "metadata": {
    "collapsed": false,
    "pycharm": {
     "name": "#%%\n"
    }
   }
  },
  {
   "cell_type": "code",
   "execution_count": 69,
   "outputs": [
    {
     "data": {
      "text/plain": "<re.Match object; span=(0, 15), match='FileTypes.ipynb'>"
     },
     "execution_count": 69,
     "metadata": {},
     "output_type": "execute_result"
    }
   ],
   "source": [
    "import re\n",
    "\n",
    "re.fullmatch('FileTypes.*', 'FileTypes.ipynb')"
   ],
   "metadata": {
    "collapsed": false,
    "pycharm": {
     "name": "#%%\n"
    }
   }
  },
  {
   "cell_type": "markdown",
   "source": [
    "# Function Signatures"
   ],
   "metadata": {
    "collapsed": false,
    "pycharm": {
     "name": "#%% md\n"
    }
   }
  },
  {
   "cell_type": "code",
   "execution_count": 70,
   "outputs": [
    {
     "name": "stdout",
     "output_type": "stream",
     "text": [
      "a=1 b=2\n",
      "a=1 b=2\n",
      "a=1 b=3\n",
      "a=1 b=3\n"
     ]
    }
   ],
   "source": [
    "from pydantic import validate_arguments\n",
    "\n",
    "\n",
    "@validate_arguments\n",
    "def pos_or_kw(a: int, b: int = 2) -> str:\n",
    "    return f'a={a} b={b}'\n",
    "\n",
    "\n",
    "print(pos_or_kw(1))\n",
    "print(pos_or_kw(a=1))\n",
    "print(pos_or_kw(1, 3))\n",
    "print(pos_or_kw(a=1, b=3))"
   ],
   "metadata": {
    "collapsed": false,
    "pycharm": {
     "name": "#%%\n"
    }
   }
  },
  {
   "cell_type": "code",
   "execution_count": 71,
   "outputs": [
    {
     "name": "stdout",
     "output_type": "stream",
     "text": [
      "a=1 b=2\n",
      "a=1 b=3\n"
     ]
    }
   ],
   "source": [
    "@validate_arguments\n",
    "def kw_only(*, a: int, b: int = 2) -> str:\n",
    "    return f'a={a} b={b}'\n",
    "\n",
    "\n",
    "print(kw_only(a=1))\n",
    "print(kw_only(a=1, b=3))"
   ],
   "metadata": {
    "collapsed": false,
    "pycharm": {
     "name": "#%%\n"
    }
   }
  },
  {
   "cell_type": "code",
   "execution_count": 72,
   "outputs": [
    {
     "name": "stdout",
     "output_type": "stream",
     "text": [
      "a=1 b=2\n",
      "a=1 b=2\n"
     ]
    }
   ],
   "source": [
    "@validate_arguments\n",
    "def pos_only(a: int, b: int = 2, /) -> str:  # python>=3.8\n",
    "    return f'a={a} b={b}'\n",
    "\n",
    "\n",
    "print(pos_only(1))\n",
    "print(pos_only(1, 2))"
   ],
   "metadata": {
    "collapsed": false,
    "pycharm": {
     "name": "#%%\n"
    }
   }
  },
  {
   "cell_type": "code",
   "execution_count": 73,
   "outputs": [
    {
     "name": "stdout",
     "output_type": "stream",
     "text": [
      "(1,)\n",
      "(1, 2)\n",
      "(1, 2, 3)\n"
     ]
    }
   ],
   "source": [
    "@validate_arguments\n",
    "def var_args(*args: int) -> str:\n",
    "    return str(args)\n",
    "\n",
    "\n",
    "print(var_args(1))\n",
    "print(var_args(1, 2))\n",
    "print(var_args(1, 2, 3))"
   ],
   "metadata": {
    "collapsed": false,
    "pycharm": {
     "name": "#%%\n"
    }
   }
  },
  {
   "cell_type": "code",
   "execution_count": 74,
   "outputs": [
    {
     "name": "stdout",
     "output_type": "stream",
     "text": [
      "{'a': 1}\n",
      "{'a': 1, 'b': 2}\n"
     ]
    }
   ],
   "source": [
    "@validate_arguments\n",
    "def var_kwargs(**kwargs: int) -> str:\n",
    "    return str(kwargs)\n",
    "\n",
    "\n",
    "print(var_kwargs(a=1))\n",
    "print(var_kwargs(a=1, b=2))"
   ],
   "metadata": {
    "collapsed": false,
    "pycharm": {
     "name": "#%%\n"
    }
   }
  },
  {
   "cell_type": "code",
   "execution_count": 76,
   "outputs": [
    {
     "name": "stdout",
     "output_type": "stream",
     "text": [
      "a=1 b=2 c=None d=() e=3 f=None g={}\n",
      "a=1 b=2 c=3 d=(4, 5, 6) e=8 f=9 g={'g': 10, 'spam': 11}\n"
     ]
    }
   ],
   "source": [
    "@validate_arguments\n",
    "def armageddon(\n",
    "    a: int,\n",
    "    /,  # python 3.8 only\n",
    "    b: int,\n",
    "    c: int = None,\n",
    "    *d: int,\n",
    "    e: int,\n",
    "    f: int = None,\n",
    "    **g: int,\n",
    ") -> str:\n",
    "    return f'a={a} b={b} c={c} d={d} e={e} f={f} g={g}'\n",
    "\n",
    "\n",
    "print(armageddon(1, 2, e=3))\n",
    "print(armageddon(1, 2, 3, 4, 5, 6, e=8, f=9, g=10, spam=11))"
   ],
   "metadata": {
    "collapsed": false,
    "pycharm": {
     "name": "#%%\n"
    }
   }
  },
  {
   "cell_type": "markdown",
   "source": [
    "# Using Field to describe function arguments"
   ],
   "metadata": {
    "collapsed": false,
    "pycharm": {
     "name": "#%% md\n"
    }
   }
  },
  {
   "cell_type": "code",
   "execution_count": 80,
   "outputs": [
    {
     "name": "stdout",
     "output_type": "stream",
     "text": [
      "1 validation error for HowMany\n",
      "num\n",
      "  ensure this value is greater than 10 (type=value_error.number.not_gt; limit_value=10)\n"
     ]
    }
   ],
   "source": [
    "from datetime import datetime\n",
    "from pydantic import validate_arguments, Field, ValidationError\n",
    "from pydantic.typing import Annotated\n",
    "\n",
    "\n",
    "@validate_arguments\n",
    "def how_many(num: Annotated[int, Field(gt=10)]):\n",
    "    return num\n",
    "\n",
    "\n",
    "try:\n",
    "    how_many(1)\n",
    "except ValidationError as e:\n",
    "    print(e)"
   ],
   "metadata": {
    "collapsed": false,
    "pycharm": {
     "name": "#%%\n"
    }
   }
  },
  {
   "cell_type": "code",
   "execution_count": 81,
   "outputs": [
    {
     "name": "stdout",
     "output_type": "stream",
     "text": [
      "<class 'datetime.datetime'>\n"
     ]
    }
   ],
   "source": [
    "@validate_arguments\n",
    "def when(dt: datetime = Field(default_factory=datetime.now)):\n",
    "    return dt\n",
    "\n",
    "\n",
    "print(type(when()))"
   ],
   "metadata": {
    "collapsed": false,
    "pycharm": {
     "name": "#%%\n"
    }
   }
  },
  {
   "cell_type": "markdown",
   "source": [
    "# Usage with mypy"
   ],
   "metadata": {
    "collapsed": false,
    "pycharm": {
     "name": "#%% md\n"
    }
   }
  },
  {
   "cell_type": "markdown",
   "source": [
    "# Validate without calling the function"
   ],
   "metadata": {
    "collapsed": false,
    "pycharm": {
     "name": "#%% md\n"
    }
   }
  },
  {
   "cell_type": "code",
   "execution_count": 82,
   "outputs": [
    {
     "name": "stdout",
     "output_type": "stream",
     "text": [
      "Called with a=1, b=1\n"
     ]
    },
    {
     "data": {
      "text/plain": "SlowSum(a=2, v__duplicate_kwargs=None, b=2, args=None, kwargs=None)"
     },
     "execution_count": 82,
     "metadata": {},
     "output_type": "execute_result"
    }
   ],
   "source": [
    "from pydantic import validate_arguments, ValidationError\n",
    "\n",
    "\n",
    "@validate_arguments\n",
    "def slow_sum(a: int, b: int) -> int:\n",
    "    print(f'Called with a={a}, b={b}')\n",
    "    return a + b\n",
    "\n",
    "\n",
    "slow_sum(1, 1)\n",
    "\n",
    "slow_sum.validate(2, 2)"
   ],
   "metadata": {
    "collapsed": false,
    "pycharm": {
     "name": "#%%\n"
    }
   }
  },
  {
   "cell_type": "code",
   "execution_count": 83,
   "outputs": [
    {
     "name": "stdout",
     "output_type": "stream",
     "text": [
      "1 validation error for SlowSum\n",
      "b\n",
      "  value is not a valid integer (type=type_error.integer)\n"
     ]
    }
   ],
   "source": [
    "try:\n",
    "    slow_sum.validate(1, 'b')\n",
    "except ValidationError as exc:\n",
    "    print(exc)"
   ],
   "metadata": {
    "collapsed": false,
    "pycharm": {
     "name": "#%%\n"
    }
   }
  },
  {
   "cell_type": "markdown",
   "source": [
    "# Raw function"
   ],
   "metadata": {
    "collapsed": false,
    "pycharm": {
     "name": "#%% md\n"
    }
   }
  },
  {
   "cell_type": "code",
   "execution_count": 84,
   "outputs": [
    {
     "name": "stdout",
     "output_type": "stream",
     "text": [
      "b'hellohellohello'\n",
      "b'good bye, good bye'\n"
     ]
    }
   ],
   "source": [
    "from pydantic import validate_arguments\n",
    "\n",
    "\n",
    "@validate_arguments\n",
    "def repeat(s: str, count: int, *, separator: bytes = b'') -> bytes:\n",
    "    b = s.encode()\n",
    "    return separator.join(b for _ in range(count))\n",
    "\n",
    "\n",
    "a = repeat('hello', 3)\n",
    "print(a)\n",
    "\n",
    "b = repeat.raw_function('good bye', 2, separator=b', ')\n",
    "print(b)"
   ],
   "metadata": {
    "collapsed": false,
    "pycharm": {
     "name": "#%%\n"
    }
   }
  },
  {
   "cell_type": "markdown",
   "source": [
    "# Async Functions"
   ],
   "metadata": {
    "collapsed": false,
    "pycharm": {
     "name": "#%% md\n"
    }
   }
  },
  {
   "cell_type": "code",
   "execution_count": null,
   "outputs": [],
   "source": [
    "import asyncio\n",
    "from pydantic import PositiveInt, ValidationError, validate_arguments\n",
    "\n",
    "\n",
    "@validate_arguments\n",
    "async def get_user_email(user_id: PositiveInt):\n",
    "    # `conn` is some fictional connection to a database\n",
    "    conn = None\n",
    "    email = await conn.execute('select email from users where id=$1', user_id)\n",
    "\n",
    "    if email is None:\n",
    "        raise RuntimeError('user not found')\n",
    "    else:\n",
    "        return email\n",
    "\n",
    "\n",
    "async def main():\n",
    "    email = await get_user_email(123)\n",
    "    print(email)\n",
    "\n",
    "    try:\n",
    "        await get_user_email(-4)\n",
    "    except ValidationError as exc:\n",
    "        print(exc.errors())\n",
    "\n",
    "\n",
    "asyncio.run(main())"
   ],
   "metadata": {
    "collapsed": false,
    "pycharm": {
     "name": "#%%\n"
    }
   }
  },
  {
   "cell_type": "markdown",
   "source": [
    "# Custom Config"
   ],
   "metadata": {
    "collapsed": false,
    "pycharm": {
     "name": "#%% md\n"
    }
   }
  },
  {
   "cell_type": "code",
   "execution_count": 85,
   "outputs": [
    {
     "data": {
      "text/plain": "'Foobar(a) + Foobar(b)'"
     },
     "execution_count": 85,
     "metadata": {},
     "output_type": "execute_result"
    }
   ],
   "source": [
    "from pydantic import ValidationError, validate_arguments\n",
    "\n",
    "\n",
    "class Foobar:\n",
    "    def __init__(self, v: str):\n",
    "        self.v = v\n",
    "\n",
    "    def __add__(self, other: 'Foobar') -> str:\n",
    "        return f'{self} + {other}'\n",
    "\n",
    "    def __str__(self) -> str:\n",
    "        return f'Foobar({self.v})'\n",
    "\n",
    "\n",
    "@validate_arguments(config=dict(arbitrary_types_allowed=True))\n",
    "def add_foobars(a: Foobar, b: Foobar):\n",
    "    return a + b\n",
    "\n",
    "\n",
    "c = add_foobars(Foobar('a'), Foobar('b'))\n",
    "c"
   ],
   "metadata": {
    "collapsed": false,
    "pycharm": {
     "name": "#%%\n"
    }
   }
  },
  {
   "cell_type": "code",
   "execution_count": 86,
   "outputs": [
    {
     "name": "stdout",
     "output_type": "stream",
     "text": [
      "2 validation errors for AddFoobars\n",
      "a\n",
      "  instance of Foobar expected (type=type_error.arbitrary_type; expected_arbitrary_type=Foobar)\n",
      "b\n",
      "  instance of Foobar expected (type=type_error.arbitrary_type; expected_arbitrary_type=Foobar)\n"
     ]
    }
   ],
   "source": [
    "try:\n",
    "    add_foobars(1, 2)\n",
    "except ValidationError as e:\n",
    "    print(e)"
   ],
   "metadata": {
    "collapsed": false,
    "pycharm": {
     "name": "#%%\n"
    }
   }
  },
  {
   "cell_type": "markdown",
   "source": [
    "# Limitations"
   ],
   "metadata": {
    "collapsed": false,
    "pycharm": {
     "name": "#%% md\n"
    }
   }
  },
  {
   "cell_type": "markdown",
   "source": [
    "## Validation Exception"
   ],
   "metadata": {
    "collapsed": false,
    "pycharm": {
     "name": "#%% md\n"
    }
   }
  },
  {
   "cell_type": "markdown",
   "source": [
    "## Coercion and Strictness"
   ],
   "metadata": {
    "collapsed": false,
    "pycharm": {
     "name": "#%% md\n"
    }
   }
  },
  {
   "cell_type": "markdown",
   "source": [
    "## Performance"
   ],
   "metadata": {
    "collapsed": false,
    "pycharm": {
     "name": "#%% md\n"
    }
   }
  },
  {
   "cell_type": "markdown",
   "source": [
    "## Return Value"
   ],
   "metadata": {
    "collapsed": false,
    "pycharm": {
     "name": "#%% md\n"
    }
   }
  },
  {
   "cell_type": "markdown",
   "source": [
    "## Config and Validators"
   ],
   "metadata": {
    "collapsed": false,
    "pycharm": {
     "name": "#%% md\n"
    }
   }
  },
  {
   "cell_type": "markdown",
   "source": [
    "## Model fields and reserved arguments"
   ],
   "metadata": {
    "collapsed": false,
    "pycharm": {
     "name": "#%% md\n"
    }
   }
  },
  {
   "cell_type": "code",
   "execution_count": null,
   "outputs": [],
   "source": [],
   "metadata": {
    "collapsed": false,
    "pycharm": {
     "name": "#%%\n"
    }
   }
  }
 ],
 "metadata": {
  "kernelspec": {
   "display_name": "Python 3",
   "language": "python",
   "name": "python3"
  },
  "language_info": {
   "codemirror_mode": {
    "name": "ipython",
    "version": 2
   },
   "file_extension": ".py",
   "mimetype": "text/x-python",
   "name": "python",
   "nbconvert_exporter": "python",
   "pygments_lexer": "ipython2",
   "version": "2.7.6"
  }
 },
 "nbformat": 4,
 "nbformat_minor": 0
}