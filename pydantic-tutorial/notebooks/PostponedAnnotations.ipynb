{
 "cells": [
  {
   "cell_type": "code",
   "execution_count": 1,
   "metadata": {
    "collapsed": true,
    "pycharm": {
     "name": "#%%\n"
    }
   },
   "outputs": [
    {
     "name": "stdout",
     "output_type": "stream",
     "text": [
      "a=[1, 2, 3]\n"
     ]
    }
   ],
   "source": [
    "from __future__ import annotations\n",
    "from typing import List\n",
    "from pydantic import BaseModel\n",
    "\n",
    "\n",
    "class Model(BaseModel):\n",
    "    a: List[int]\n",
    "\n",
    "\n",
    "print(Model(a=('1', 2, 3)))"
   ]
  },
  {
   "cell_type": "code",
   "execution_count": 4,
   "outputs": [
    {
     "name": "stdout",
     "output_type": "stream",
     "text": [
      "a=123 b=None\n",
      "a=123 b=Foo(a=321, b=None)\n"
     ]
    }
   ],
   "source": [
    "from typing import ForwardRef\n",
    "from pydantic import BaseModel\n",
    "\n",
    "Foo = ForwardRef('Foo')\n",
    "\n",
    "\n",
    "class Foo(BaseModel):\n",
    "    a: int = 123\n",
    "    b: Foo = None\n",
    "\n",
    "\n",
    "Foo.update_forward_refs()\n",
    "\n",
    "print(Foo())\n",
    "print(Foo(b={'a': '321'}))"
   ],
   "metadata": {
    "collapsed": false,
    "pycharm": {
     "name": "#%%\n"
    }
   }
  },
  {
   "cell_type": "code",
   "execution_count": 6,
   "outputs": [
    {
     "name": "stdout",
     "output_type": "stream",
     "text": [
      "a=[1, 2]\n"
     ]
    }
   ],
   "source": [
    "from typing import List\n",
    "from pydantic import BaseModel\n",
    "\n",
    "\n",
    "def this_works():\n",
    "    class Model(BaseModel):\n",
    "        a: List[int]\n",
    "\n",
    "    print(Model(a=(1, 2)))\n",
    "\n",
    "\n",
    "this_works()"
   ],
   "metadata": {
    "collapsed": false,
    "pycharm": {
     "name": "#%%\n"
    }
   }
  },
  {
   "cell_type": "code",
   "execution_count": 1,
   "outputs": [
    {
     "name": "stdout",
     "output_type": "stream",
     "text": [
      "a=[1, 2]\n"
     ]
    }
   ],
   "source": [
    "from pydantic import BaseModel\n",
    "\n",
    "\n",
    "def this_is_broken():\n",
    "    # List is defined inside the function so is not in the module's\n",
    "    # global scope!\n",
    "    from typing import List\n",
    "\n",
    "    class Model(BaseModel):\n",
    "        a: List[int]\n",
    "\n",
    "    print(Model(a=(1, 2)))\n",
    "\n",
    "\n",
    "this_is_broken()"
   ],
   "metadata": {
    "collapsed": false,
    "pycharm": {
     "name": "#%%\n"
    }
   }
  },
  {
   "cell_type": "markdown",
   "source": [
    "# Self-referencing Models"
   ],
   "metadata": {
    "collapsed": false,
    "pycharm": {
     "name": "#%% md\n"
    }
   }
  },
  {
   "cell_type": "code",
   "execution_count": 2,
   "outputs": [
    {
     "name": "stdout",
     "output_type": "stream",
     "text": [
      "a=123 sibling=None\n",
      "a=123 sibling=Foo(a=321, sibling=None)\n"
     ]
    }
   ],
   "source": [
    "from pydantic import BaseModel\n",
    "\n",
    "\n",
    "class Foo(BaseModel):\n",
    "    a: int = 123\n",
    "    #: The sibling of `Foo` is referenced by string\n",
    "    sibling: 'Foo' = None\n",
    "\n",
    "\n",
    "print(Foo())\n",
    "print(Foo(sibling={'a': '321'}))"
   ],
   "metadata": {
    "collapsed": false,
    "pycharm": {
     "name": "#%%\n"
    }
   }
  },
  {
   "cell_type": "code",
   "execution_count": null,
   "outputs": [],
   "source": [
    "from pydantic import BaseModel\n",
    "\n",
    "\n",
    "class Foo(BaseModel):\n",
    "    a: int = 123\n",
    "    #: The sibling of `Foo` is referenced directly by type\n",
    "    sibling: Foo = None\n",
    "\n",
    "\n",
    "print(Foo())\n",
    "#> a=123 sibling=None\n",
    "print(Foo(sibling={'a': '321'}))"
   ],
   "metadata": {
    "collapsed": false,
    "pycharm": {
     "name": "#%%\n"
    }
   }
  }
 ],
 "metadata": {
  "kernelspec": {
   "display_name": "Python 3",
   "language": "python",
   "name": "python3"
  },
  "language_info": {
   "codemirror_mode": {
    "name": "ipython",
    "version": 2
   },
   "file_extension": ".py",
   "mimetype": "text/x-python",
   "name": "python",
   "nbconvert_exporter": "python",
   "pygments_lexer": "ipython2",
   "version": "2.7.6"
  }
 },
 "nbformat": 4,
 "nbformat_minor": 0
}